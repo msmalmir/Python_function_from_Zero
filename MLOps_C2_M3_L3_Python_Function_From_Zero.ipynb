{
  "nbformat": 4,
  "nbformat_minor": 0,
  "metadata": {
    "colab": {
      "provenance": [],
      "toc_visible": true,
      "include_colab_link": true
    },
    "kernelspec": {
      "name": "python3",
      "display_name": "Python 3"
    },
    "language_info": {
      "name": "python"
    }
  },
  "cells": [
    {
      "cell_type": "markdown",
      "metadata": {
        "id": "view-in-github",
        "colab_type": "text"
      },
      "source": [
        "<a href=\"https://colab.research.google.com/github/msmalmir/Python_function_from_Zero/blob/main/MLOps_C2_M3_L3_Python_Function_From_Zero.ipynb\" target=\"_parent\"><img src=\"https://colab.research.google.com/assets/colab-badge.svg\" alt=\"Open In Colab\"/></a>"
      ]
    },
    {
      "cell_type": "markdown",
      "source": [
        "## Learning Statements"
      ],
      "metadata": {
        "id": "kXScgMDu4Luy"
      }
    },
    {
      "cell_type": "code",
      "source": [
        "print('hello world!')"
      ],
      "metadata": {
        "id": "fiXhphLp3rT3",
        "colab": {
          "base_uri": "https://localhost:8080/"
        },
        "outputId": "0bcb2108-b6c1-4ed3-a7a3-71717cee905c"
      },
      "execution_count": null,
      "outputs": [
        {
          "output_type": "stream",
          "name": "stdout",
          "text": [
            "hello world!\n"
          ]
        }
      ]
    },
    {
      "cell_type": "code",
      "source": [
        "variable = 3\n",
        "print(variable)"
      ],
      "metadata": {
        "id": "vk8xK0F9CyV1",
        "outputId": "74a1d556-eb46-49fb-ae57-29f8aed4b872",
        "colab": {
          "base_uri": "https://localhost:8080/"
        }
      },
      "execution_count": 1,
      "outputs": [
        {
          "output_type": "stream",
          "name": "stdout",
          "text": [
            "3\n"
          ]
        }
      ]
    },
    {
      "cell_type": "code",
      "source": [],
      "metadata": {
        "id": "d_GSskH3CzKf"
      },
      "execution_count": null,
      "outputs": []
    }
  ]
}