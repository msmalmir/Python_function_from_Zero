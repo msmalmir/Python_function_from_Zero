{
  "nbformat": 4,
  "nbformat_minor": 0,
  "metadata": {
    "colab": {
      "provenance": [],
      "toc_visible": true,
      "include_colab_link": true
    },
    "kernelspec": {
      "name": "python3",
      "display_name": "Python 3"
    },
    "language_info": {
      "name": "python"
    }
  },
  "cells": [
    {
      "cell_type": "markdown",
      "metadata": {
        "id": "view-in-github",
        "colab_type": "text"
      },
      "source": [
        "<a href=\"https://colab.research.google.com/github/msmalmir/Python_function_from_Zero/blob/main/MLOps_C2_M3_L3_Python_Function_From_Zero.ipynb\" target=\"_parent\"><img src=\"https://colab.research.google.com/assets/colab-badge.svg\" alt=\"Open In Colab\"/></a>"
      ]
    },
    {
      "cell_type": "markdown",
      "source": [
        "## Learning Statements"
      ],
      "metadata": {
        "id": "kXScgMDu4Luy"
      }
    },
    {
      "cell_type": "code",
      "source": [
        "print('hello world!')"
      ],
      "metadata": {
        "id": "fiXhphLp3rT3",
        "colab": {
          "base_uri": "https://localhost:8080/"
        },
        "outputId": "0bcb2108-b6c1-4ed3-a7a3-71717cee905c"
      },
      "execution_count": null,
      "outputs": [
        {
          "output_type": "stream",
          "name": "stdout",
          "text": [
            "hello world!\n"
          ]
        }
      ]
    },
    {
      "cell_type": "code",
      "source": [
        "variable = 3\n",
        "print(variable)"
      ],
      "metadata": {
        "colab": {
          "base_uri": "https://localhost:8080/"
        },
        "id": "vk8xK0F9CyV1",
        "outputId": "74a1d556-eb46-49fb-ae57-29f8aed4b872"
      },
      "execution_count": 1,
      "outputs": [
        {
          "output_type": "stream",
          "name": "stdout",
          "text": [
            "3\n"
          ]
        }
      ]
    },
    {
      "cell_type": "code",
      "source": [
        "variable2 = 4\n",
        "print(variable2)"
      ],
      "metadata": {
        "id": "t_C33UjeDT5r",
        "outputId": "b3babfbe-f6ec-467c-b2d8-d8bc5038a5a9",
        "colab": {
          "base_uri": "https://localhost:8080/"
        }
      },
      "execution_count": 2,
      "outputs": [
        {
          "output_type": "stream",
          "name": "stdout",
          "text": [
            "4\n"
          ]
        }
      ]
    },
    {
      "cell_type": "code",
      "source": [
        "my_dict = {1:'one', 2:'two',3:'three'}\n",
        "for key, value in my_dict.items():\n",
        "  print(f\"This is the key{key}\")\n",
        "  print(f\"This is th value{value}\")"
      ],
      "metadata": {
        "colab": {
          "base_uri": "https://localhost:8080/"
        },
        "id": "d_GSskH3CzKf",
        "outputId": "caac8c90-e4dc-400d-fbeb-4af8d4d5e106"
      },
      "execution_count": 3,
      "outputs": [
        {
          "output_type": "stream",
          "name": "stdout",
          "text": [
            "This is the key1\n",
            "This is th valueone\n",
            "This is the key2\n",
            "This is th valuetwo\n",
            "This is the key3\n",
            "This is th valuethree\n"
          ]
        }
      ]
    },
    {
      "cell_type": "code",
      "source": [
        "my_dict.get(1)"
      ],
      "metadata": {
        "id": "OV83ZS13IN_a",
        "outputId": "8743d9ed-3775-40c4-c73f-ca9c4df1492b",
        "colab": {
          "base_uri": "https://localhost:8080/",
          "height": 35
        }
      },
      "execution_count": 4,
      "outputs": [
        {
          "output_type": "execute_result",
          "data": {
            "text/plain": [
              "'one'"
            ],
            "application/vnd.google.colaboratory.intrinsic+json": {
              "type": "string"
            }
          },
          "metadata": {},
          "execution_count": 4
        }
      ]
    },
    {
      "cell_type": "code",
      "source": [],
      "metadata": {
        "id": "BDpGEdA7ITwN"
      },
      "execution_count": null,
      "outputs": []
    }
  ]
}